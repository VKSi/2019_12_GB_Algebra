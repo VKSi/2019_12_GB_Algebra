{
 "cells": [
  {
   "cell_type": "markdown",
   "metadata": {},
   "source": [
    "## GeekBrains. Введение в высшую математику\n",
    "## Тема “Аналитическая геометрия” и “Графики на плоскости”"
   ]
  },
  {
   "cell_type": "markdown",
   "metadata": {},
   "source": [
    "### 1. Задание (на листочке)\n",
    "#### Решите уравнение\n",
    "#### sin(x)/x=0."
   ]
  },
  {
   "cell_type": "markdown",
   "metadata": {},
   "source": [
    "### Решение:"
   ]
  },
  {
   "cell_type": "markdown",
   "metadata": {},
   "source": [
    "Область определения функции: х != 0"
   ]
  },
  {
   "cell_type": "markdown",
   "metadata": {},
   "source": [
    "sin(x) = 0"
   ]
  },
  {
   "cell_type": "markdown",
   "metadata": {},
   "source": [
    "x = pi * n (n != 0)"
   ]
  },
  {
   "cell_type": "markdown",
   "metadata": {},
   "source": [
    "### 2. Задание (на листочке)\n",
    "#### Даны три прямые y=k1*x+b1, y=k2*x+b2, y=k3*x+b3.\n",
    "#### Как узнать, пересекаются они в одной точке или нет?"
   ]
  },
  {
   "cell_type": "markdown",
   "metadata": {},
   "source": [
    "### Решение:"
   ]
  },
  {
   "cell_type": "markdown",
   "metadata": {},
   "source": [
    "Необходимым и достаточным условием того, что прямые, определенные на плоскости, в принципе (хоть где-то) пересекаются, является различие их углов наклона, то есть abs(k1) != abs(k2) != abs(k3) != abs(k1)"
   ]
  },
  {
   "cell_type": "markdown",
   "metadata": {},
   "source": [
    "Если вышеуказанное условие выполнено, то каждая пара прямых пересекается, и для каждой пары прямых существует только одна точка пересечения. Следовательно, для ответа на вопрос, необходимо сравнить точки пересечения первой и второй, и первой и третьей прямой.Так как на прямой одному х соответствует только один y и наоборот, достаточно будет получить одинаковые ответы для любой из координат."
   ]
  },
  {
   "cell_type": "markdown",
   "metadata": {},
   "source": [
    "Пересечению прямых y = k1 * x + b1 и y = k2 * x + b2 очевидно соответствует x = -(b2 - b1)/(k2 - k1)\n",
    "Все три прямые будут пересекаться в одной точке если:\n",
    "(b2 - b1)/(k2- k1) == (b3 - b1)/(k3 - k1) == (b3 - b2)/(k3 - k2)"
   ]
  },
  {
   "cell_type": "markdown",
   "metadata": {},
   "source": [
    "Одно из трех уравнений будет выполняться автоматически"
   ]
  },
  {
   "cell_type": "markdown",
   "metadata": {},
   "source": [
    "### 3. Задание (в программе или на листочке)\n",
    "#### На листе тетради «в линейку» (расстояние между линиями равно а) лежит игла (длиной b).\n",
    "#### Координаты нижней точки иглы (х,у), игла лежит под углом alfa.\n",
    "#### Пересекает ли игла линию или нет?"
   ]
  },
  {
   "cell_type": "markdown",
   "metadata": {},
   "source": [
    "### Решение:"
   ]
  },
  {
   "cell_type": "markdown",
   "metadata": {},
   "source": [
    "Для начала сместим систему координат так, чтобы координаты нижней точки иглы лежали в первом квандранте, причем точки (0, 0) и (1, 1) определяли нижни левый и верхний правый углы клетки, в которой находится начало иглы. Если какая-та из координат была отрицательной, произойдет соответствующее отражение."
   ]
  },
  {
   "cell_type": "code",
   "execution_count": 119,
   "metadata": {},
   "outputs": [],
   "source": [
    "def new_system (a, x0, y0):\n",
    "    x_new = abs(x0 % a) / a\n",
    "    y_new = abs(y0 % a) / a\n",
    "    return x_new, y_new"
   ]
  },
  {
   "cell_type": "markdown",
   "metadata": {},
   "source": [
    "Затем определим в новой системе координат положение конца иглы:"
   ]
  },
  {
   "cell_type": "code",
   "execution_count": 120,
   "metadata": {},
   "outputs": [],
   "source": [
    "import numpy as np\n",
    "def end_points(a, b, alpha, *new_points):\n",
    "    end_x = new_points[0] + b / a * np.cos(np.radians(alpha))\n",
    "    end_y = new_points[1] + b / a * np.sin(np.radians(alpha))\n",
    "    return end_x, end_y"
   ]
  },
  {
   "cell_type": "markdown",
   "metadata": {},
   "source": [
    "Игла будет пересекать клетку в том случае если координата конца лежит за границами ячейки:"
   ]
  },
  {
   "cell_type": "code",
   "execution_count": 121,
   "metadata": {},
   "outputs": [],
   "source": [
    "def if_cross(*end_points):\n",
    "    for end_point in end_points:\n",
    "        if end_point > 1 or end_point < 0:\n",
    "            return True\n",
    "    return False"
   ]
  },
  {
   "cell_type": "markdown",
   "metadata": {},
   "source": [
    "Теперь сведем все вместе:\n",
    "   Чтобы поэкспериментировать, можно менять исходные данные в следующей ячейке"
   ]
  },
  {
   "cell_type": "code",
   "execution_count": 122,
   "metadata": {},
   "outputs": [],
   "source": [
    "a = 2\n",
    "b = 1\n",
    "alpha = 60\n",
    "x0 = 5.8\n",
    "y0 = 8.9"
   ]
  },
  {
   "cell_type": "code",
   "execution_count": 123,
   "metadata": {},
   "outputs": [
    {
     "name": "stdout",
     "output_type": "stream",
     "text": [
      "x_new = 0.9, y_new = 0.45\n",
      "end_x = 1.1, end_y = 0.88\n",
      "True\n"
     ]
    }
   ],
   "source": [
    "x_new, y_new = new_system (a, x0, y0)\n",
    "print(f'x_new = {x_new:.2}, y_new = {y_new:.2}')\n",
    "end_x, end_y = end_points(a, b, alpha, x_new, y_new)\n",
    "print(f'end_x = {end_x:.2}, end_y = {end_y:.2}')\n",
    "print(if_cross(end_x, end_y))"
   ]
  },
  {
   "cell_type": "markdown",
   "metadata": {},
   "source": [
    "### 4. Задание** (задание делать по желанию)\n",
    "#### Решите аналитически и потом численно (в программе) уравнение, зависящее от параметра а:\n",
    "#### sin(а*x)=0\n",
    "#### при условии: 0.01<a<0.02, 100<х<500.\n",
    "#### Т.е. надо найти решение х как функцию параметра а - построить график x=x(а).\n",
    "#### Если численным методом не получается найти все ветви решения x(а), то отыщите хотя бы одну."
   ]
  },
  {
   "cell_type": "markdown",
   "metadata": {},
   "source": [
    "### Решение:"
   ]
  },
  {
   "cell_type": "markdown",
   "metadata": {},
   "source": [
    "sin(a*x) = 0"
   ]
  },
  {
   "cell_type": "markdown",
   "metadata": {},
   "source": [
    "a*x = n * pi, n - целое"
   ]
  },
  {
   "cell_type": "markdown",
   "metadata": {},
   "source": [
    "x = n * pi / a (a != 0)"
   ]
  },
  {
   "cell_type": "markdown",
   "metadata": {},
   "source": [
    "100 < n * pi / 0.01 < 500 => 1 < n * pi < 5 => n = 1"
   ]
  },
  {
   "cell_type": "markdown",
   "metadata": {},
   "source": [
    "100 < n * pi / 0.02 < 500 => 2 < n * pi < 10 => n = 1, n = 2, n = 3"
   ]
  },
  {
   "cell_type": "markdown",
   "metadata": {},
   "source": [
    "Для n = 2 накладывается дополнительное условие на a:"
   ]
  },
  {
   "cell_type": "markdown",
   "metadata": {},
   "source": [
    "100 < 2 * pi / a < 500"
   ]
  },
  {
   "cell_type": "markdown",
   "metadata": {},
   "source": [
    "2 * pi / 500 < a < 2 * pi / 100"
   ]
  },
  {
   "cell_type": "code",
   "execution_count": 124,
   "metadata": {},
   "outputs": [
    {
     "name": "stdout",
     "output_type": "stream",
     "text": [
      "0.0126 < a < 0.0628\n"
     ]
    }
   ],
   "source": [
    "print(f'{2*np.pi/500:.3} < a < {2*np.pi/100:.3}')"
   ]
  },
  {
   "cell_type": "markdown",
   "metadata": {},
   "source": [
    "Так как верхняя граница выше изначально заданной, то остается только нижняя."
   ]
  },
  {
   "cell_type": "markdown",
   "metadata": {},
   "source": [
    "Для n = 3 накладывается дополнительное условие на a:"
   ]
  },
  {
   "cell_type": "markdown",
   "metadata": {},
   "source": [
    "100 < 3 * pi / a < 500"
   ]
  },
  {
   "cell_type": "markdown",
   "metadata": {},
   "source": [
    "3 * pi / 500 < a < 3 * pi / 100"
   ]
  },
  {
   "cell_type": "code",
   "execution_count": 125,
   "metadata": {},
   "outputs": [
    {
     "name": "stdout",
     "output_type": "stream",
     "text": [
      "0.0188 < a < 0.0942\n"
     ]
    }
   ],
   "source": [
    "print(f'{3*np.pi/500:.3} < a < {3*np.pi/100:.3}')"
   ]
  },
  {
   "cell_type": "markdown",
   "metadata": {},
   "source": [
    "#### Ответ:\n",
    "    x = pi/a для всех а в заданном интервале\n",
    "    \n",
    "    x = 2*pi/a для всех a > pi / 250 (0.0126)\n",
    "    \n",
    "    x = 3*pi/a для всех a > 3 * pi / 500 (0.0188)"
   ]
  },
  {
   "cell_type": "code",
   "execution_count": 126,
   "metadata": {},
   "outputs": [
    {
     "data": {
      "image/png": "[encoded data removed]",
      "text/plain": [
       "<Figure size 432x288 with 1 Axes>"
      ]
     },
     "metadata": {
      "needs_background": "light"
     },
     "output_type": "display_data"
    }
   ],
   "source": [
    "%matplotlib inline\n",
    "import matplotlib.pyplot as plt\n",
    "\n",
    "a1 = 0.012\n",
    "a2 = 0.015\n",
    "a3 = 0.0195\n",
    "x = np.linspace(100, 500, 4000)\n",
    "_ = plt.plot(x, np.sin(a1 * x), label=f'a = {a1}')\n",
    "_ = plt.plot(x, np.sin(a2 * x), label=f'a = {a2}')\n",
    "_ = plt.plot(x, np.sin(a3 * x), label=f'a = {a3}')\n",
    "_ = plt.hlines(0, 100, 500)\n",
    "_ = plt.legend()\n",
    "_ = plt.title('sin(a*x)')"
   ]
  },
  {
   "cell_type": "markdown",
   "metadata": {},
   "source": [
    "На графике видно, что при a = 0.012 существует только один корень, при a = 0.015 уже два, а при a = 0.0195 три."
   ]
  },
  {
   "cell_type": "markdown",
   "metadata": {},
   "source": [
    "Можно также построить графики зависимости х от а для различных значений n.\n",
    "В цикле ниже заданы значения n от -1 до 4. При этом на значения функции (х(а)), выводимых на график, наложены установленные задачей ограничения. Таким образом можно будет увидеть, для каких значений n существуют удовлетворяющие нас зависимости."
   ]
  },
  {
   "cell_type": "code",
   "execution_count": 127,
   "metadata": {},
   "outputs": [
    {
     "data": {
      "image/png": "[encoded data removed]",
      "text/plain": [
       "<Figure size 432x288 with 1 Axes>"
      ]
     },
     "metadata": {
      "needs_background": "light"
     },
     "output_type": "display_data"
    }
   ],
   "source": [
    "a = np.linspace(0.01, 0.02, 100)\n",
    "for n in range(-1, 5):\n",
    "    _ = plt.plot(a, n*np.pi/a, label = f'n = {n}')\n",
    "_ = plt.ylim(100, 500)\n",
    "_ = plt.legend()\n",
    "_ = plt.title('Графики x(a) = n*pi/a для различных значений n')"
   ]
  },
  {
   "cell_type": "markdown",
   "metadata": {},
   "source": [
    "### 5 Задание\n",
    "#### Найти угол между прямыми 4y - 3x + 12 = 0 и 7y + x - 14 = 0"
   ]
  },
  {
   "cell_type": "markdown",
   "metadata": {},
   "source": [
    "### Решение:"
   ]
  },
  {
   "cell_type": "markdown",
   "metadata": {},
   "source": [
    "tg(a) = (A2B1 - A1B2)/(A1A2 + B1B2)"
   ]
  },
  {
   "cell_type": "code",
   "execution_count": 128,
   "metadata": {},
   "outputs": [
    {
     "name": "stdout",
     "output_type": "stream",
     "text": [
      "Угол между этими прямыми равен: 38.9 градусов\n"
     ]
    }
   ],
   "source": [
    "A1 = -3\n",
    "B1 = 4\n",
    "A2 = 1\n",
    "B2 = 7\n",
    "print(f'Угол между этими прямыми равен: {abs(np.degrees(np.arctan((A2*B1 - A1*B2)/(A1*A2 - B1*B2)))):.3} градусов')"
   ]
  },
  {
   "cell_type": "markdown",
   "metadata": {},
   "source": [
    "#### Найти угол между прямыми x = qrt(2) и x = -sqrt(3)"
   ]
  },
  {
   "cell_type": "markdown",
   "metadata": {},
   "source": [
    "### Ответ:\n",
    "Прямые параллельны. Угол равен 0."
   ]
  },
  {
   "cell_type": "markdown",
   "metadata": {},
   "source": [
    "### 6 Задание\n",
    "#### Выяснить тип кривых второго порядка, порожденных следующими уравнениями:"
   ]
  },
  {
   "cell_type": "markdown",
   "metadata": {},
   "source": [
    "#### y^2 - 2*x - 2*y - 5 = 0"
   ]
  },
  {
   "cell_type": "markdown",
   "metadata": {},
   "source": [
    "y^2 - 2x - 2y - 5 = y^2 - 2y + 1 - 1 - 2x - 5 = (y-1)^2 - 2*(x - (-3))  Парабола"
   ]
  },
  {
   "cell_type": "markdown",
   "metadata": {},
   "source": [
    "#### 3*x^2 + 5*y^2 + 12*x -30*y +42 = 0"
   ]
  },
  {
   "cell_type": "markdown",
   "metadata": {},
   "source": [
    "    3x^2 + 12x = 3(x^2 + 4x + 4 - 4) = 3(x + 2)^2 - 12"
   ]
  },
  {
   "cell_type": "markdown",
   "metadata": {},
   "source": [
    "    5y^2 - 30y = 5(y^2 - 6y + 9 - 9) = 5(y - 3)^2 - 45"
   ]
  },
  {
   "cell_type": "markdown",
   "metadata": {},
   "source": [
    "    f = 3(x + 2)^2 - 12 + 5(y - 3)^2 - 45 + 42 = 3(x + 2)^2 + 5(y - 3)^2 - 15"
   ]
  },
  {
   "cell_type": "markdown",
   "metadata": {},
   "source": [
    "(x + 2)^2/5 + (y - 3)^2/3 = 1 Эллипс"
   ]
  },
  {
   "cell_type": "markdown",
   "metadata": {},
   "source": [
    "####   2*x^2 - y^2 + 6*y - 7 = 0"
   ]
  },
  {
   "cell_type": "markdown",
   "metadata": {},
   "source": [
    "    -y^2 + 6y = -(y^2 - 6y + 9 - 9) = -(y - 3)^2 + 9"
   ]
  },
  {
   "cell_type": "markdown",
   "metadata": {},
   "source": [
    "    f = 2x^2 - (y -3)^2 + 9 - 7 = 2x^2 - (y -3)^2 + 2"
   ]
  },
  {
   "cell_type": "markdown",
   "metadata": {},
   "source": [
    "(y -3)^2/2 - x^2/1 = 1 Гипербола с осью симметрии y = 0"
   ]
  },
  {
   "cell_type": "markdown",
   "metadata": {},
   "source": [
    "#### 2*x^2 - 3*y^2 - 28*x - 42*y - 55 = 0"
   ]
  },
  {
   "cell_type": "markdown",
   "metadata": {},
   "source": [
    "    2x^2 - 28x = 2(x^2 -14x + 49 - 49) = 2(x - 7)^2 - 98 "
   ]
  },
  {
   "cell_type": "markdown",
   "metadata": {},
   "source": [
    "    -3y^2 -42y = -3(y^2 + 14y + 49 - 49) = -3(y + 7) + 147"
   ]
  },
  {
   "cell_type": "markdown",
   "metadata": {},
   "source": [
    "    f = 2(x - 7)^2 - 98 - 3(y + 7)^2 + 147 - 55 = 2(x - 7)^2 - 3(y + 7)^2 - 6"
   ]
  },
  {
   "cell_type": "markdown",
   "metadata": {},
   "source": [
    "(x - 7)^2/3 - (y + 7)^2/2 = 1 Гипербола"
   ]
  },
  {
   "cell_type": "code",
   "execution_count": null,
   "metadata": {},
   "outputs": [],
   "source": []
  }
 ],
 "metadata": {
  "kernelspec": {
   "display_name": "Python 3",
   "language": "python",
   "name": "python3"
  },
  "language_info": {
   "codemirror_mode": {
    "name": "ipython",
    "version": 3
   },
   "file_extension": ".py",
   "mimetype": "text/x-python",
   "name": "python",
   "nbconvert_exporter": "python",
   "pygments_lexer": "ipython3",
   "version": "3.7.3"
  }
 },
 "nbformat": 4,
 "nbformat_minor": 2
}
